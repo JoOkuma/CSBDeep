{
 "cells": [
  {
   "cell_type": "markdown",
   "metadata": {},
   "source": [
    "<hr style=\"height:2px;\">\n",
    "\n",
    "# Demo: Apply trained CARE model for isotropic reconstruction of Zebrafish retina\n",
    "\n",
    "This notebook demonstrates applying a CARE model for an isotropic reconstruction task, assuming that training was already completed via [2_training.ipynb](2_training.ipynb).  \n",
    "The trained model is assumed to be located in the folder `models` with the name `my_model`.\n",
    "\n",
    "**Note:** The CARE model is here applied to the same image that the model was trained on.  \n",
    "Of course, in practice one would typically use it to restore images that the model hasn't seen during training.\n",
    "\n",
    "More documentation is available at http://csbdeep.bioimagecomputing.com/doc/."
   ]
  },
  {
   "cell_type": "code",
   "execution_count": 3,
   "metadata": {},
   "outputs": [],
   "source": [
    "from __future__ import print_function, unicode_literals, absolute_import, division\n",
    "import numpy as np\n",
    "import matplotlib.pyplot as plt\n",
    "%matplotlib inline\n",
    "%config InlineBackend.figure_format = 'retina'\n",
    "\n",
    "from tifffile import imread\n",
    "from csbdeep.utils import Path, download_and_extract_zip_file, plot_some\n",
    "from csbdeep.io import save_tiff_imagej_compatible\n",
    "from csbdeep.models import IsotropicCARE\n",
    "from dexp.datasets.zarr_dataset import ZDataset"
   ]
  },
  {
   "cell_type": "markdown",
   "metadata": {},
   "source": [
    "<hr style=\"height:2px;\">\n",
    "\n",
    "# Load data\n",
    "\n",
    "The example data (also for testing) should have been downloaded in [1_datagen.ipynb](1_datagen.ipynb).  \n",
    "Just in case, we will download it here again if it's not already present."
   ]
  },
  {
   "cell_type": "code",
   "execution_count": null,
   "metadata": {},
   "outputs": [],
   "source": [
    "data_path = '/mnt/hd1/_dorado/2021/March/03262021_PhotoM/stabilized.croped.fused.deconv.zarr.zip'\n",
    "# data_path = '/home/jordao/Softwares/interactive-tracker/croped.fused.deconv.zarr.zip'\n",
    "dataset = ZDataset(data_path)\n",
    "channel = 'DendraRed'"
   ]
  },
  {
   "cell_type": "markdown",
   "metadata": {},
   "source": [
    "<hr style=\"height:2px;\">\n",
    "\n",
    "# Raw 3D image stack with low axial resolution\n",
    "\n",
    "We plot XY and XZ slices of the stack and define the image axes and subsampling factor, which will be needed later for prediction."
   ]
  },
  {
   "cell_type": "code",
   "execution_count": 1,
   "metadata": {},
   "outputs": [
    {
     "ename": "NameError",
     "evalue": "name 'dataset' is not defined",
     "output_type": "error",
     "traceback": [
      "\u001b[0;31m-------------------------\u001b[0m",
      "\u001b[0;31mNameError\u001b[0mTraceback (most recent call last)",
      "\u001b[0;32m<ipython-input-1-3e6c90cbd902>\u001b[0m in \u001b[0;36m<module>\u001b[0;34m\u001b[0m\n\u001b[0;32m----> 1\u001b[0;31m \u001b[0mx\u001b[0m \u001b[0;34m=\u001b[0m \u001b[0mdataset\u001b[0m\u001b[0;34m.\u001b[0m\u001b[0mget_stack\u001b[0m\u001b[0;34m(\u001b[0m\u001b[0mchannel\u001b[0m\u001b[0;34m,\u001b[0m \u001b[0;36m200\u001b[0m\u001b[0;34m)\u001b[0m\u001b[0;34m\u001b[0m\u001b[0;34m\u001b[0m\u001b[0m\n\u001b[0m\u001b[1;32m      2\u001b[0m \u001b[0msubsample\u001b[0m \u001b[0;34m=\u001b[0m \u001b[0;36m1.97\u001b[0m \u001b[0;34m/\u001b[0m \u001b[0;36m0.485\u001b[0m\u001b[0;34m\u001b[0m\u001b[0;34m\u001b[0m\u001b[0m\n\u001b[1;32m      3\u001b[0m \u001b[0mprint\u001b[0m\u001b[0;34m(\u001b[0m\u001b[0;34m'image size         ='\u001b[0m\u001b[0;34m,\u001b[0m \u001b[0mx\u001b[0m\u001b[0;34m.\u001b[0m\u001b[0mshape\u001b[0m\u001b[0;34m)\u001b[0m\u001b[0;34m\u001b[0m\u001b[0;34m\u001b[0m\u001b[0m\n\u001b[1;32m      4\u001b[0m \u001b[0mprint\u001b[0m\u001b[0;34m(\u001b[0m\u001b[0;34m'Z subsample factor ='\u001b[0m\u001b[0;34m,\u001b[0m \u001b[0msubsample\u001b[0m\u001b[0;34m)\u001b[0m\u001b[0;34m\u001b[0m\u001b[0;34m\u001b[0m\u001b[0m\n\u001b[1;32m      5\u001b[0m \u001b[0;34m\u001b[0m\u001b[0m\n",
      "\u001b[0;31mNameError\u001b[0m: name 'dataset' is not defined"
     ]
    }
   ],
   "source": [
    "x = dataset.get_stack(channel, 200)\n",
    "subsample = 1.97 / 0.485\n",
    "print('image size         =', x.shape)\n",
    "print('Z subsample factor =', subsample)\n",
    "\n",
    "plt.figure(figsize=(16,15))\n",
    "plot_some(np.moveaxis(x, 1,-1)[[130,150]],\n",
    "          title_list=[['XY slice','XY slice']],\n",
    "          pmin=2,pmax=99.8);\n",
    "\n",
    "plt.figure(figsize=(16,15))\n",
    "plot_some(np.moveaxis(np.moveaxis(x,1,-1)[:,[350,450]],1,0),\n",
    "          title_list=[['XZ slice','XZ slice']],\n",
    "          pmin=2,pmax=99.8, aspect=subsample);"
   ]
  },
  {
   "cell_type": "markdown",
   "metadata": {},
   "source": [
    "<hr style=\"height:2px;\">\n",
    "\n",
    "# Isotropic CARE model\n",
    "\n",
    "Load trained model (located in base directory `models` with name `my_model`) from disk.  \n",
    "The configuration was saved during training and is automatically loaded when `IsotropicCARE` is initialized with `config=None`."
   ]
  },
  {
   "cell_type": "code",
   "execution_count": null,
   "metadata": {},
   "outputs": [],
   "source": [
    "model_path = 'my_model'\n",
    "model = IsotropicCARE(config=None, name=model_path, basedir='models')"
   ]
  },
  {
   "cell_type": "markdown",
   "metadata": {},
   "source": [
    "## Apply CARE network to raw image\n",
    "\n",
    "Predict the reconstructed image, which can take a while. If there are memory issues, reduce the parameter `batch_size`.  \n",
    "\n",
    "**Important:** You need to supply the subsampling factor, which must be the same as used during [training data generation](1_datagen.ipynb).\n",
    "\n",
    "**Note**: *Out of memory* problems during `model.predict` can also indicate that the GPU is used by another process. In particular, shut down the training notebook before running the prediction (you may need to restart this notebook)."
   ]
  },
  {
   "cell_type": "code",
   "execution_count": null,
   "metadata": {},
   "outputs": [],
   "source": [
    "%%time\n",
    "\n",
    "output_path = '/mnt/hd1/stabilized.zarr.zip'\n",
    "output_ds = ZDataset(output_path, mode='a')\n",
    "\n",
    "shape = dataset.shape(channel)\n",
    "output_ds.add_channel(channel, shape, dtype=x.dtype)\n",
    "\n",
    "axes = 'ZYX'\n",
    "for t in range(dataset.nb_timepoints(shape[0])):\n",
    "    restored = model.predict(dataset.get_stack(channel, t), axes, subsample)\n",
    "    print('orig', x.shape)\n",
    "    print('restored', restored.shape)\n",
    "    output_ds.write_stack(channel, t, restored)\n",
    "\n",
    "print('input  size =', x.shape)\n",
    "print('output size =', restored.shape)\n",
    "print()"
   ]
  }
 ],
 "metadata": {
  "kernelspec": {
   "display_name": "Python 3",
   "language": "python",
   "name": "python3"
  },
  "language_info": {
   "codemirror_mode": {
    "name": "ipython",
    "version": 3
   },
   "file_extension": ".py",
   "mimetype": "text/x-python",
   "name": "python",
   "nbconvert_exporter": "python",
   "pygments_lexer": "ipython3",
   "version": "3.8.8"
  }
 },
 "nbformat": 4,
 "nbformat_minor": 2
}
